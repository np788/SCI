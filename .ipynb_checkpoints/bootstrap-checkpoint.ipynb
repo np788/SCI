{
 "cells": [
  {
   "cell_type": "markdown",
   "metadata": {},
   "source": [
    "Comparing Boosting and Bagging Techniques With Noisy and Imbalanced Data\n",
    "https://ieeexplore.ieee.org/document/5645694?arnumber=5645694\n"
   ]
  },
  {
   "cell_type": "code",
   "execution_count": 234,
   "metadata": {},
   "outputs": [],
   "source": [
    "import numpy as np\n",
    "from numpy.random import sample\n",
    "import pandas as pd\n",
    "from sklearn.model_selection import train_test_split, LeaveOneOut, cross_val_score, KFold, cross_val_predict, StratifiedKFold\n",
    "from sklearn.model_selection import StratifiedKFold, GridSearchCV, ParameterGrid\n",
    "from sklearn.linear_model import LogisticRegression, LogisticRegressionCV\n",
    "from sklearn.ensemble import RandomForestClassifier\n",
    "from sklearn import metrics\n",
    "from imblearn.over_sampling import SMOTE\n",
    "from scipy import interp\n",
    "import seaborn as sns\n",
    "import warnings\n",
    "warnings.filterwarnings(\"ignore\")\n",
    "from sklearn.metrics import confusion_matrix, precision_recall_curve\n",
    "from sklearn.metrics import classification_report, f1_score, auc\n",
    "from sklearn.metrics import average_precision_score, roc_curve, auc, accuracy_score, roc_auc_score, precision_score, recall_score, precision_recall_curve\n",
    "from sklearn.utils import resample\n",
    "import matplotlib.pyplot as plt\n",
    "from scipy import interp\n",
    "%matplotlib inline\n",
    "from tpot import TPOTClassifier"
   ]
  },
  {
   "cell_type": "code",
   "execution_count": 235,
   "metadata": {},
   "outputs": [
    {
     "data": {
      "text/plain": [
       "(591, 50)"
      ]
     },
     "execution_count": 235,
     "metadata": {},
     "output_type": "execute_result"
    }
   ],
   "source": [
    "df = pd.read_csv(\"SCI.csv\")#, sep='COLUMN_SEPARATOR', dtype=np.float64)\n",
    "df.set_index('StudyID', inplace=True)\n",
    "y = df.FU_SA\n",
    "X = df.drop('FU_SA', axis=1)\n",
    "df.shape"
   ]
  },
  {
   "cell_type": "code",
   "execution_count": 236,
   "metadata": {
    "collapsed": true
   },
   "outputs": [],
   "source": [
    "correlated_features = set()  \n",
    "correlation_matrix = df.corr()\n",
    "\n",
    "for i in range(len(correlation_matrix.columns)):  \n",
    "    for j in range(i):\n",
    "        if abs(correlation_matrix.iloc[i, j]) > 0.8:\n",
    "            colname = correlation_matrix.columns[i]\n",
    "            correlated_features.add(colname)\n",
    "            \n",
    "X.drop(labels=correlated_features, axis=1, inplace=True)  "
   ]
  },
  {
   "cell_type": "code",
   "execution_count": 237,
   "metadata": {},
   "outputs": [
    {
     "data": {
      "text/plain": [
       "(591, 48)"
      ]
     },
     "execution_count": 237,
     "metadata": {},
     "output_type": "execute_result"
    }
   ],
   "source": [
    "X.shape\n",
    "df = pd.concat([X,y], axis=1, sort=False)\n",
    "df.shape"
   ]
  },
  {
   "cell_type": "markdown",
   "metadata": {},
   "source": [
    "# LR"
   ]
  },
  {
   "cell_type": "code",
   "execution_count": 238,
   "metadata": {},
   "outputs": [
    {
     "name": "stdout",
     "output_type": "stream",
     "text": [
      "0.6491243432574431\n",
      "0.11011475103028413\n",
      "Adj AUC 0.5390095922271589\n"
     ]
    }
   ],
   "source": [
    "logreg = LogisticRegression()\n",
    "\n",
    "logreg.fit(X,y)\n",
    "\n",
    "preds = logreg.predict(X)\n",
    "\n",
    "C_app = roc_auc_score(y, preds)\n",
    "\n",
    "## Bootstrapping ##\n",
    "\n",
    "B = 5001\n",
    "\n",
    "Cb_boots = []\n",
    "Cb_orig = []\n",
    "opts = []\n",
    "\n",
    "\n",
    "\n",
    "for i in range(1, B):\n",
    "    boot = resample(df, replace=True, n_samples=len(X)) #Create bootstrapped dataset\n",
    "    y_b = boot.FU_SA \n",
    "    X_b = boot.drop('FU_SA', axis=1)\n",
    "    logreg.fit(X_b, y_b) #Fit LR using boostrapped data\n",
    "    preds_b = logreg.predict(X_b) #Make predictions on bootstrapped data\n",
    "    roc_b = roc_auc_score(y_b, preds_b) \n",
    "    C_boots.append(roc_b)\n",
    "    preds_orig = logreg.predict(X) #Apply model from boostrapped data to original data\n",
    "    roc_o = roc_auc_score(y, preds_orig)\n",
    "    Cb_orig.append(roc_o)\n",
    "    opts.append(roc_b - roc_o)\n",
    "    \n",
    "O = 1/B * np.sum(opts)\n",
    "O_adj = C_app - O\n",
    "print(C_app)\n",
    "print(O)\n",
    "print('Adj AUC', O_adj)"
   ]
  },
  {
   "cell_type": "code",
   "execution_count": null,
   "metadata": {},
   "outputs": [],
   "source": []
  },
  {
   "cell_type": "markdown",
   "metadata": {},
   "source": [
    "# RF"
   ]
  },
  {
   "cell_type": "code",
   "execution_count": 239,
   "metadata": {},
   "outputs": [
    {
     "name": "stdout",
     "output_type": "stream",
     "text": [
      "0.925\n",
      "0.18129092482085002\n",
      "Adj AUC 0.74370907517915\n"
     ]
    }
   ],
   "source": [
    "rf = RandomForestClassifier(n_estimators = 7)\n",
    "\n",
    "rf.fit(X,y)\n",
    "\n",
    "preds = rf.predict(X)\n",
    "\n",
    "C_app = roc_auc_score(y, preds)\n",
    "\n",
    "## Bootstrapping ##\n",
    "\n",
    "B = 5001\n",
    "\n",
    "Cb_boots = []\n",
    "Cb_orig = []\n",
    "opts = []\n",
    "\n",
    "for i in range(1, B):\n",
    "    boot = resample(df, replace=True, n_samples=len(df)) #Create bootstrapped dataset\n",
    "    y_b = boot.FU_SA \n",
    "    X_b = boot.drop('FU_SA', axis=1)\n",
    "    rf.fit(X_b, y_b) #Fit LR using boostrapped data\n",
    "    preds_b = rf.predict(X_b) #Make predictions on bootstrapped data\n",
    "    roc_b = roc_auc_score(y_b, preds_b) \n",
    "    C_boots.append(roc_b)\n",
    "    preds_orig = rf.predict(X) #Apply model from boostrapped data to original data\n",
    "    roc_o = roc_auc_score(y, preds_orig)\n",
    "    Cb_orig.append(roc_o)\n",
    "    opts.append(roc_b - roc_o)\n",
    "    \n",
    "O = 1/B * np.sum(opts)\n",
    "O_adj = C_app - O\n",
    "print(C_app)\n",
    "print(O)\n",
    "print('Adj AUC', O_adj)"
   ]
  },
  {
   "cell_type": "markdown",
   "metadata": {
    "collapsed": true
   },
   "source": [
    "# Stratified bootstrapping"
   ]
  },
  {
   "cell_type": "code",
   "execution_count": null,
   "metadata": {},
   "outputs": [],
   "source": []
  }
 ],
 "metadata": {
  "anaconda-cloud": {},
  "kernelspec": {
   "display_name": "Python 3",
   "language": "python",
   "name": "python3"
  },
  "language_info": {
   "codemirror_mode": {
    "name": "ipython",
    "version": 3
   },
   "file_extension": ".py",
   "mimetype": "text/x-python",
   "name": "python",
   "nbconvert_exporter": "python",
   "pygments_lexer": "ipython3",
   "version": "3.6.5"
  }
 },
 "nbformat": 4,
 "nbformat_minor": 2
}
