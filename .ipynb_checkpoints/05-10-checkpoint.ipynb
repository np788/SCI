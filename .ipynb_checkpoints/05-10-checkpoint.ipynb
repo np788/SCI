{
 "cells": [
  {
   "cell_type": "code",
   "execution_count": 9,
   "metadata": {},
   "outputs": [],
   "source": [
    "import autosklearn.classification\n",
    "import numpy as np\n",
    "import pandas as pd\n",
    "from sklearn.model_selection import train_test_split, LeaveOneOut, cross_val_score, KFold, cross_val_predict, StratifiedKFold\n",
    "from sklearn.model_selection import StratifiedKFold, GridSearchCV, ParameterGrid\n",
    "from sklearn.linear_model import LogisticRegression, LogisticRegressionCV\n",
    "from sklearn.ensemble import RandomForestRegressor, GradientBoostingClassifier\n",
    "from sklearn.ensemble import RandomForestClassifier\n",
    "from sklearn import metrics\n",
    "from sklearn.decomposition import PCA\n",
    "from imblearn.over_sampling import SMOTE\n",
    "from scipy import interp\n",
    "from sklearn.metrics import confusion_matrix, precision_recall_curve\n",
    "from sklearn.metrics import classification_report, f1_score\n",
    "from sklearn.metrics import roc_curve, auc, accuracy_score, roc_auc_score, precision_score, recall_score\n",
    "from sklearn.utils import resample\n",
    "import matplotlib.pyplot as plt\n",
    "from scipy import interp\n",
    "import sklearn.datasets\n",
    "import sklearn.metrics\n",
    "from autosklearn.metrics import accuracy, f1_macro, roc_auc, f1\n",
    "from sklearn.ensemble import GradientBoostingClassifier\n",
    "from sklearn.feature_selection import RFE, SelectKBest, SelectPercentile, f_regression\n",
    "import warnings\n",
    "import seaborn as sns\n",
    "from scipy.stats import chi2\n",
    "from yellowbrick.features import RFECV\n",
    "warnings.filterwarnings('ignore')\n",
    "%matplotlib inline"
   ]
  },
  {
   "cell_type": "markdown",
   "metadata": {},
   "source": [
    "## Spearman"
   ]
  },
  {
   "cell_type": "code",
   "execution_count": 10,
   "metadata": {},
   "outputs": [
    {
     "data": {
      "text/plain": [
       "['STS13', 'STS23', 'STS34', 'STS40', 'STS44', 'STS47']"
      ]
     },
     "execution_count": 10,
     "metadata": {},
     "output_type": "execute_result"
    }
   ],
   "source": [
    "#Removing correlated features (spearman)\n",
    "\n",
    "df = pd.read_csv(\"SCI.csv\")\n",
    "df.set_index('StudyID', inplace=True)\n",
    "y = df.FU_SA\n",
    "X = df.drop('FU_SA', axis=1)\n",
    "\n",
    "#plt.figure(figsize=(40,40))\n",
    "#sns.heatmap(X.corr(method='spearman'), annot=True, cmap='coolwarm')\n",
    "#plt.tight_layout()\n",
    "\n",
    "def spearcorr(dataset, threshold):\n",
    "    corr_matrix = dataset.corr(method='pearson').abs()\n",
    "    upper = corr_matrix.where(np.triu(np.ones(corr_matrix.shape), k=1).astype(np.bool))\n",
    "    to_drop = [column for column in upper.columns if any(upper[column] > threshold)]\n",
    "    return(to_drop)\n",
    "    #print(dataset)\n",
    "\n",
    "cols = spearcorr(X, 0.75)\n",
    "#X = X.drop(cols, axis = 1)"
   ]
  },
  {
   "cell_type": "markdown",
   "metadata": {},
   "source": [
    "# Logistic Regression + SMOTE"
   ]
  },
  {
   "cell_type": "code",
   "execution_count": 11,
   "metadata": {},
   "outputs": [],
   "source": [
    "X_train, X_test, y_train, y_test = train_test_split(X, y, test_size = 0.3, stratify = y)\n",
    "os = SMOTE()\n",
    "X_train_os, y_train_os = os.fit_sample(X_train, y_train)\n",
    "logreg = LogisticRegression()\n",
    "logreg.fit(X_train_os, y_train_os)\n",
    "lr_preds_os = logreg.predict(X_test)"
   ]
  },
  {
   "cell_type": "code",
   "execution_count": 12,
   "metadata": {},
   "outputs": [
    {
     "name": "stdout",
     "output_type": "stream",
     "text": [
      "              precision    recall  f1-score   support\n",
      "\n",
      "           0       0.97      0.90      0.93       172\n",
      "           1       0.05      0.17      0.08         6\n",
      "\n",
      "   micro avg       0.87      0.87      0.87       178\n",
      "   macro avg       0.51      0.53      0.51       178\n",
      "weighted avg       0.94      0.87      0.90       178\n",
      "\n"
     ]
    }
   ],
   "source": [
    "print(classification_report(y_test, lr_preds_os))"
   ]
  },
  {
   "cell_type": "code",
   "execution_count": 13,
   "metadata": {},
   "outputs": [
    {
     "data": {
      "text/plain": [
       "0.7558139534883721"
      ]
     },
     "execution_count": 13,
     "metadata": {},
     "output_type": "execute_result"
    }
   ],
   "source": [
    "probs = logreg.predict_proba(X_test)\n",
    "preds = probs[:,1]\n",
    "fpr, tpr, threshold = metrics.roc_curve(y_test, preds)\n",
    "roc_auc = metrics.auc(fpr, tpr)\n",
    "roc_auc"
   ]
  },
  {
   "cell_type": "markdown",
   "metadata": {},
   "source": [
    "## Logistic Regression + SMOTE + Removing correlated features"
   ]
  },
  {
   "cell_type": "code",
   "execution_count": 14,
   "metadata": {},
   "outputs": [
    {
     "name": "stdout",
     "output_type": "stream",
     "text": [
      "(413, 49)\n",
      "{'STS40', 'STS44', 'STS23', 'STS34', 'STS47', 'STS13'}\n"
     ]
    }
   ],
   "source": [
    "print(X_train.shape)\n",
    "correlated_features = set()  \n",
    "correlation_matrix = df.corr()  \n",
    "\n",
    "for i in range(len(correlation_matrix.columns)):\n",
    "    for j in range(i):\n",
    "        if abs(correlation_matrix.iloc[i, j]) > 0.75:\n",
    "            colname = correlation_matrix.columns[i]\n",
    "            correlated_features.add(colname)\n",
    "            \n",
    "X_train.drop(labels=correlated_features, axis=1, inplace=True)  \n",
    "X_test.drop(labels=correlated_features, axis=1, inplace=True)  \n",
    "print(correlated_features)"
   ]
  },
  {
   "cell_type": "code",
   "execution_count": 326,
   "metadata": {},
   "outputs": [
    {
     "name": "stdout",
     "output_type": "stream",
     "text": [
      "              precision    recall  f1-score   support\n",
      "\n",
      "           0       0.97      0.85      0.91       172\n",
      "           1       0.07      0.33      0.12         6\n",
      "\n",
      "   micro avg       0.84      0.84      0.84       178\n",
      "   macro avg       0.52      0.59      0.52       178\n",
      "weighted avg       0.94      0.84      0.88       178\n",
      "\n"
     ]
    }
   ],
   "source": [
    "X_train_os, y_train_os = os.fit_sample(X_train, y_train)\n",
    "logreg = LogisticRegression()\n",
    "logreg.fit(X_train_os, y_train_os)\n",
    "lr_preds_os = logreg.predict(X_test)\n",
    "print(classification_report(y_test, lr_preds_os))"
   ]
  },
  {
   "cell_type": "code",
   "execution_count": 330,
   "metadata": {},
   "outputs": [
    {
     "data": {
      "text/plain": [
       "0.8110465116279071"
      ]
     },
     "execution_count": 330,
     "metadata": {},
     "output_type": "execute_result"
    }
   ],
   "source": [
    "probs = logreg.predict_proba(X_test)\n",
    "preds = probs[:,1]\n",
    "fpr, tpr, threshold = metrics.roc_curve(y_test, preds)\n",
    "roc_auc = metrics.auc(fpr, tpr)\n",
    "roc_auc"
   ]
  },
  {
   "cell_type": "code",
   "execution_count": null,
   "metadata": {},
   "outputs": [],
   "source": []
  }
 ],
 "metadata": {
  "kernelspec": {
   "display_name": "Python 3",
   "language": "python",
   "name": "python3"
  },
  "language_info": {
   "codemirror_mode": {
    "name": "ipython",
    "version": 3
   },
   "file_extension": ".py",
   "mimetype": "text/x-python",
   "name": "python",
   "nbconvert_exporter": "python",
   "pygments_lexer": "ipython3",
   "version": "3.6.5"
  }
 },
 "nbformat": 4,
 "nbformat_minor": 2
}
